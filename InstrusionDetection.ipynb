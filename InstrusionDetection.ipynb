{
 "cells": [
  {
   "cell_type": "markdown",
   "id": "intelligent-pittsburgh",
   "metadata": {},
   "source": [
    "# Intrusion Detection System"
   ]
  },
  {
   "cell_type": "markdown",
   "id": "precious-third",
   "metadata": {},
   "source": [
    "* Objective: Create a random forest model to detect if there has been an intrusion in the system.\n",
    "* Intrusion Detection Evaluation dataset: https://www.kaggle.com/cicdataset/cicids2017"
   ]
  },
  {
   "cell_type": "markdown",
   "id": "improving-defeat",
   "metadata": {},
   "source": [
    "# Imports"
   ]
  },
  {
   "cell_type": "code",
   "execution_count": 1,
   "id": "centered-birmingham",
   "metadata": {
    "execution": {
     "iopub.execute_input": "2021-05-06T23:26:52.953136Z",
     "iopub.status.busy": "2021-05-06T23:26:52.952159Z",
     "iopub.status.idle": "2021-05-06T23:26:55.834606Z",
     "shell.execute_reply": "2021-05-06T23:26:55.833947Z",
     "shell.execute_reply.started": "2021-05-06T23:26:52.952699Z"
    },
    "lines_to_next_cell": 2
   },
   "outputs": [
    {
     "name": "stderr",
     "output_type": "stream",
     "text": [
      "Matplotlib created a temporary config/cache directory at /tmp/matplotlib-9a1ea10k because the default path (/home/qs/.cache/matplotlib) is not a writable directory; it is highly recommended to set the MPLCONFIGDIR environment variable to a writable directory, in particular to speed up the import of Matplotlib and to better support multiprocessing.\n"
     ]
    }
   ],
   "source": [
    "import pandas as pd\n",
    "from datetime import date\n",
    "import numpy as np\n",
    "import matplotlib.pyplot as plt\n",
    "import seaborn as sns \n",
    "\n",
    "import os\n",
    "import sys\n",
    "from sklearn.model_selection import train_test_split\n",
    "from sklearn.ensemble import RandomForestRegressor\n",
    "from sklearn.tree import DecisionTreeClassifier\n",
    "from sklearn.preprocessing import StandardScaler\n",
    "from sklearn.metrics import confusion_matrix\n",
    "import joblib\n",
    "\n",
    "\n",
    "from sklearn.metrics import classification_report\n",
    "\n",
    "from sklearn import metrics as metrics\n",
    "\n",
    "\n",
    "pd.set_option('display.max_columns', None)\n",
    "pd.set_option('display.max_rows', 500)\n",
    "pd.options.display.float_format = '{:20,.4f}'.format\n",
    "pd.options.display.max_colwidth=500\n",
    "np.set_printoptions(threshold=sys.maxsize)"
   ]
  },
  {
   "cell_type": "markdown",
   "id": "placed-cleaners",
   "metadata": {},
   "source": [
    "# Data Preparation"
   ]
  },
  {
   "cell_type": "code",
   "execution_count": 2,
   "id": "extra-corporation",
   "metadata": {
    "execution": {
     "iopub.execute_input": "2021-05-06T23:26:55.835979Z",
     "iopub.status.busy": "2021-05-06T23:26:55.835826Z",
     "iopub.status.idle": "2021-05-06T23:27:10.503473Z",
     "shell.execute_reply": "2021-05-06T23:27:10.502966Z",
     "shell.execute_reply.started": "2021-05-06T23:26:55.835960Z"
    }
   },
   "outputs": [
    {
     "data": {
      "text/plain": [
       "(2830743, 80)"
      ]
     },
     "execution_count": 2,
     "metadata": {},
     "output_type": "execute_result"
    }
   ],
   "source": [
    "data = pd.read_csv('CICIDS2017.csv')\n",
    "data.shape"
   ]
  },
  {
   "cell_type": "code",
   "execution_count": 3,
   "id": "hundred-helen",
   "metadata": {
    "execution": {
     "iopub.execute_input": "2021-05-06T23:27:12.813792Z",
     "iopub.status.busy": "2021-05-06T23:27:12.813286Z",
     "iopub.status.idle": "2021-05-06T23:27:15.565952Z",
     "shell.execute_reply": "2021-05-06T23:27:15.565519Z",
     "shell.execute_reply.started": "2021-05-06T23:27:12.813738Z"
    }
   },
   "outputs": [
    {
     "data": {
      "text/plain": [
       "(2827876, 80)"
      ]
     },
     "execution_count": 3,
     "metadata": {},
     "output_type": "execute_result"
    }
   ],
   "source": [
    "## Remove rows with null values\n",
    "data_cleaned=data.dropna().copy()\n",
    "# Remove fields with infinity type to work in model \n",
    "data_cleaned=data_cleaned.loc[data_cleaned['FlowBytes/s']!=float('inf')]\n",
    "data_cleaned.shape"
   ]
  },
  {
   "cell_type": "code",
   "execution_count": 4,
   "id": "sporting-savannah",
   "metadata": {
    "execution": {
     "iopub.execute_input": "2021-05-06T23:27:15.567080Z",
     "iopub.status.busy": "2021-05-06T23:27:15.566918Z",
     "iopub.status.idle": "2021-05-06T23:27:15.602520Z",
     "shell.execute_reply": "2021-05-06T23:27:15.602153Z",
     "shell.execute_reply.started": "2021-05-06T23:27:15.567062Z"
    }
   },
   "outputs": [
    {
     "data": {
      "text/html": [
       "<div>\n",
       "<style scoped>\n",
       "    .dataframe tbody tr th:only-of-type {\n",
       "        vertical-align: middle;\n",
       "    }\n",
       "\n",
       "    .dataframe tbody tr th {\n",
       "        vertical-align: top;\n",
       "    }\n",
       "\n",
       "    .dataframe thead th {\n",
       "        text-align: right;\n",
       "    }\n",
       "</style>\n",
       "<table border=\"1\" class=\"dataframe\">\n",
       "  <thead>\n",
       "    <tr style=\"text-align: right;\">\n",
       "      <th></th>\n",
       "      <th>Unnamed: 0</th>\n",
       "      <th>DestinationPort</th>\n",
       "      <th>FlowDuration</th>\n",
       "      <th>TotalFwdPackets</th>\n",
       "      <th>TotalBackwardPackets</th>\n",
       "      <th>TotalLengthofFwdPackets</th>\n",
       "      <th>TotalLengthofBwdPackets</th>\n",
       "      <th>FwdPacketLengthMax</th>\n",
       "      <th>FwdPacketLengthMin</th>\n",
       "      <th>FwdPacketLengthMean</th>\n",
       "      <th>FwdPacketLengthStd</th>\n",
       "      <th>BwdPacketLengthMax</th>\n",
       "      <th>BwdPacketLengthMin</th>\n",
       "      <th>BwdPacketLengthMean</th>\n",
       "      <th>BwdPacketLengthStd</th>\n",
       "      <th>FlowBytes/s</th>\n",
       "      <th>FlowPackets/s</th>\n",
       "      <th>FlowIATMean</th>\n",
       "      <th>FlowIATStd</th>\n",
       "      <th>FlowIATMax</th>\n",
       "      <th>FlowIATMin</th>\n",
       "      <th>FwdIATTotal</th>\n",
       "      <th>FwdIATMean</th>\n",
       "      <th>FwdIATStd</th>\n",
       "      <th>FwdIATMax</th>\n",
       "      <th>FwdIATMin</th>\n",
       "      <th>BwdIATTotal</th>\n",
       "      <th>BwdIATMean</th>\n",
       "      <th>BwdIATStd</th>\n",
       "      <th>BwdIATMax</th>\n",
       "      <th>BwdIATMin</th>\n",
       "      <th>FwdPSHFlags</th>\n",
       "      <th>BwdPSHFlags</th>\n",
       "      <th>FwdURGFlags</th>\n",
       "      <th>BwdURGFlags</th>\n",
       "      <th>FwdHeaderLength</th>\n",
       "      <th>BwdHeaderLength</th>\n",
       "      <th>FwdPackets/s</th>\n",
       "      <th>BwdPackets/s</th>\n",
       "      <th>MinPacketLength</th>\n",
       "      <th>MaxPacketLength</th>\n",
       "      <th>PacketLengthMean</th>\n",
       "      <th>PacketLengthStd</th>\n",
       "      <th>PacketLengthVariance</th>\n",
       "      <th>FINFlagCount</th>\n",
       "      <th>SYNFlagCount</th>\n",
       "      <th>RSTFlagCount</th>\n",
       "      <th>PSHFlagCount</th>\n",
       "      <th>ACKFlagCount</th>\n",
       "      <th>URGFlagCount</th>\n",
       "      <th>CWEFlagCount</th>\n",
       "      <th>ECEFlagCount</th>\n",
       "      <th>Down/UpRatio</th>\n",
       "      <th>AveragePacketSize</th>\n",
       "      <th>AvgFwdSegmentSize</th>\n",
       "      <th>AvgBwdSegmentSize</th>\n",
       "      <th>FwdHeaderLength.1</th>\n",
       "      <th>FwdAvgBytes/Bulk</th>\n",
       "      <th>FwdAvgPackets/Bulk</th>\n",
       "      <th>FwdAvgBulkRate</th>\n",
       "      <th>BwdAvgBytes/Bulk</th>\n",
       "      <th>BwdAvgPackets/Bulk</th>\n",
       "      <th>BwdAvgBulkRate</th>\n",
       "      <th>SubflowFwdPackets</th>\n",
       "      <th>SubflowFwdBytes</th>\n",
       "      <th>SubflowBwdPackets</th>\n",
       "      <th>SubflowBwdBytes</th>\n",
       "      <th>Init_Win_bytes_forward</th>\n",
       "      <th>Init_Win_bytes_backward</th>\n",
       "      <th>act_data_pkt_fwd</th>\n",
       "      <th>min_seg_size_forward</th>\n",
       "      <th>ActiveMean</th>\n",
       "      <th>ActiveStd</th>\n",
       "      <th>ActiveMax</th>\n",
       "      <th>ActiveMin</th>\n",
       "      <th>IdleMean</th>\n",
       "      <th>IdleStd</th>\n",
       "      <th>IdleMax</th>\n",
       "      <th>IdleMin</th>\n",
       "      <th>Label</th>\n",
       "    </tr>\n",
       "  </thead>\n",
       "  <tbody>\n",
       "    <tr>\n",
       "      <th>0</th>\n",
       "      <td>0</td>\n",
       "      <td>49188</td>\n",
       "      <td>4</td>\n",
       "      <td>2</td>\n",
       "      <td>0</td>\n",
       "      <td>12</td>\n",
       "      <td>0</td>\n",
       "      <td>6</td>\n",
       "      <td>6</td>\n",
       "      <td>6.0000</td>\n",
       "      <td>0.0000</td>\n",
       "      <td>0</td>\n",
       "      <td>0</td>\n",
       "      <td>0.0000</td>\n",
       "      <td>0.0000</td>\n",
       "      <td>3,000,000.0000</td>\n",
       "      <td>500,000.0000</td>\n",
       "      <td>4.0000</td>\n",
       "      <td>0.0000</td>\n",
       "      <td>4</td>\n",
       "      <td>4</td>\n",
       "      <td>4</td>\n",
       "      <td>4.0000</td>\n",
       "      <td>0.0000</td>\n",
       "      <td>4</td>\n",
       "      <td>4</td>\n",
       "      <td>0</td>\n",
       "      <td>0.0000</td>\n",
       "      <td>0.0000</td>\n",
       "      <td>0</td>\n",
       "      <td>0</td>\n",
       "      <td>0</td>\n",
       "      <td>0</td>\n",
       "      <td>0</td>\n",
       "      <td>0</td>\n",
       "      <td>40</td>\n",
       "      <td>0</td>\n",
       "      <td>500,000.0000</td>\n",
       "      <td>0.0000</td>\n",
       "      <td>6</td>\n",
       "      <td>6</td>\n",
       "      <td>6.0000</td>\n",
       "      <td>0.0000</td>\n",
       "      <td>0.0000</td>\n",
       "      <td>0</td>\n",
       "      <td>0</td>\n",
       "      <td>0</td>\n",
       "      <td>0</td>\n",
       "      <td>1</td>\n",
       "      <td>1</td>\n",
       "      <td>0</td>\n",
       "      <td>0</td>\n",
       "      <td>0</td>\n",
       "      <td>9.0000</td>\n",
       "      <td>6.0000</td>\n",
       "      <td>0.0000</td>\n",
       "      <td>40</td>\n",
       "      <td>0</td>\n",
       "      <td>0</td>\n",
       "      <td>0</td>\n",
       "      <td>0</td>\n",
       "      <td>0</td>\n",
       "      <td>0</td>\n",
       "      <td>2</td>\n",
       "      <td>12</td>\n",
       "      <td>0</td>\n",
       "      <td>0</td>\n",
       "      <td>329</td>\n",
       "      <td>-1</td>\n",
       "      <td>1</td>\n",
       "      <td>20</td>\n",
       "      <td>0.0000</td>\n",
       "      <td>0.0000</td>\n",
       "      <td>0</td>\n",
       "      <td>0</td>\n",
       "      <td>0.0000</td>\n",
       "      <td>0.0000</td>\n",
       "      <td>0</td>\n",
       "      <td>0</td>\n",
       "      <td>BENIGN</td>\n",
       "    </tr>\n",
       "    <tr>\n",
       "      <th>1</th>\n",
       "      <td>1</td>\n",
       "      <td>49188</td>\n",
       "      <td>1</td>\n",
       "      <td>2</td>\n",
       "      <td>0</td>\n",
       "      <td>12</td>\n",
       "      <td>0</td>\n",
       "      <td>6</td>\n",
       "      <td>6</td>\n",
       "      <td>6.0000</td>\n",
       "      <td>0.0000</td>\n",
       "      <td>0</td>\n",
       "      <td>0</td>\n",
       "      <td>0.0000</td>\n",
       "      <td>0.0000</td>\n",
       "      <td>12,000,000.0000</td>\n",
       "      <td>2,000,000.0000</td>\n",
       "      <td>1.0000</td>\n",
       "      <td>0.0000</td>\n",
       "      <td>1</td>\n",
       "      <td>1</td>\n",
       "      <td>1</td>\n",
       "      <td>1.0000</td>\n",
       "      <td>0.0000</td>\n",
       "      <td>1</td>\n",
       "      <td>1</td>\n",
       "      <td>0</td>\n",
       "      <td>0.0000</td>\n",
       "      <td>0.0000</td>\n",
       "      <td>0</td>\n",
       "      <td>0</td>\n",
       "      <td>0</td>\n",
       "      <td>0</td>\n",
       "      <td>0</td>\n",
       "      <td>0</td>\n",
       "      <td>40</td>\n",
       "      <td>0</td>\n",
       "      <td>2,000,000.0000</td>\n",
       "      <td>0.0000</td>\n",
       "      <td>6</td>\n",
       "      <td>6</td>\n",
       "      <td>6.0000</td>\n",
       "      <td>0.0000</td>\n",
       "      <td>0.0000</td>\n",
       "      <td>0</td>\n",
       "      <td>0</td>\n",
       "      <td>0</td>\n",
       "      <td>0</td>\n",
       "      <td>1</td>\n",
       "      <td>1</td>\n",
       "      <td>0</td>\n",
       "      <td>0</td>\n",
       "      <td>0</td>\n",
       "      <td>9.0000</td>\n",
       "      <td>6.0000</td>\n",
       "      <td>0.0000</td>\n",
       "      <td>40</td>\n",
       "      <td>0</td>\n",
       "      <td>0</td>\n",
       "      <td>0</td>\n",
       "      <td>0</td>\n",
       "      <td>0</td>\n",
       "      <td>0</td>\n",
       "      <td>2</td>\n",
       "      <td>12</td>\n",
       "      <td>0</td>\n",
       "      <td>0</td>\n",
       "      <td>329</td>\n",
       "      <td>-1</td>\n",
       "      <td>1</td>\n",
       "      <td>20</td>\n",
       "      <td>0.0000</td>\n",
       "      <td>0.0000</td>\n",
       "      <td>0</td>\n",
       "      <td>0</td>\n",
       "      <td>0.0000</td>\n",
       "      <td>0.0000</td>\n",
       "      <td>0</td>\n",
       "      <td>0</td>\n",
       "      <td>BENIGN</td>\n",
       "    </tr>\n",
       "    <tr>\n",
       "      <th>2</th>\n",
       "      <td>2</td>\n",
       "      <td>49188</td>\n",
       "      <td>1</td>\n",
       "      <td>2</td>\n",
       "      <td>0</td>\n",
       "      <td>12</td>\n",
       "      <td>0</td>\n",
       "      <td>6</td>\n",
       "      <td>6</td>\n",
       "      <td>6.0000</td>\n",
       "      <td>0.0000</td>\n",
       "      <td>0</td>\n",
       "      <td>0</td>\n",
       "      <td>0.0000</td>\n",
       "      <td>0.0000</td>\n",
       "      <td>12,000,000.0000</td>\n",
       "      <td>2,000,000.0000</td>\n",
       "      <td>1.0000</td>\n",
       "      <td>0.0000</td>\n",
       "      <td>1</td>\n",
       "      <td>1</td>\n",
       "      <td>1</td>\n",
       "      <td>1.0000</td>\n",
       "      <td>0.0000</td>\n",
       "      <td>1</td>\n",
       "      <td>1</td>\n",
       "      <td>0</td>\n",
       "      <td>0.0000</td>\n",
       "      <td>0.0000</td>\n",
       "      <td>0</td>\n",
       "      <td>0</td>\n",
       "      <td>0</td>\n",
       "      <td>0</td>\n",
       "      <td>0</td>\n",
       "      <td>0</td>\n",
       "      <td>40</td>\n",
       "      <td>0</td>\n",
       "      <td>2,000,000.0000</td>\n",
       "      <td>0.0000</td>\n",
       "      <td>6</td>\n",
       "      <td>6</td>\n",
       "      <td>6.0000</td>\n",
       "      <td>0.0000</td>\n",
       "      <td>0.0000</td>\n",
       "      <td>0</td>\n",
       "      <td>0</td>\n",
       "      <td>0</td>\n",
       "      <td>0</td>\n",
       "      <td>1</td>\n",
       "      <td>1</td>\n",
       "      <td>0</td>\n",
       "      <td>0</td>\n",
       "      <td>0</td>\n",
       "      <td>9.0000</td>\n",
       "      <td>6.0000</td>\n",
       "      <td>0.0000</td>\n",
       "      <td>40</td>\n",
       "      <td>0</td>\n",
       "      <td>0</td>\n",
       "      <td>0</td>\n",
       "      <td>0</td>\n",
       "      <td>0</td>\n",
       "      <td>0</td>\n",
       "      <td>2</td>\n",
       "      <td>12</td>\n",
       "      <td>0</td>\n",
       "      <td>0</td>\n",
       "      <td>329</td>\n",
       "      <td>-1</td>\n",
       "      <td>1</td>\n",
       "      <td>20</td>\n",
       "      <td>0.0000</td>\n",
       "      <td>0.0000</td>\n",
       "      <td>0</td>\n",
       "      <td>0</td>\n",
       "      <td>0.0000</td>\n",
       "      <td>0.0000</td>\n",
       "      <td>0</td>\n",
       "      <td>0</td>\n",
       "      <td>BENIGN</td>\n",
       "    </tr>\n",
       "    <tr>\n",
       "      <th>3</th>\n",
       "      <td>3</td>\n",
       "      <td>49188</td>\n",
       "      <td>1</td>\n",
       "      <td>2</td>\n",
       "      <td>0</td>\n",
       "      <td>12</td>\n",
       "      <td>0</td>\n",
       "      <td>6</td>\n",
       "      <td>6</td>\n",
       "      <td>6.0000</td>\n",
       "      <td>0.0000</td>\n",
       "      <td>0</td>\n",
       "      <td>0</td>\n",
       "      <td>0.0000</td>\n",
       "      <td>0.0000</td>\n",
       "      <td>12,000,000.0000</td>\n",
       "      <td>2,000,000.0000</td>\n",
       "      <td>1.0000</td>\n",
       "      <td>0.0000</td>\n",
       "      <td>1</td>\n",
       "      <td>1</td>\n",
       "      <td>1</td>\n",
       "      <td>1.0000</td>\n",
       "      <td>0.0000</td>\n",
       "      <td>1</td>\n",
       "      <td>1</td>\n",
       "      <td>0</td>\n",
       "      <td>0.0000</td>\n",
       "      <td>0.0000</td>\n",
       "      <td>0</td>\n",
       "      <td>0</td>\n",
       "      <td>0</td>\n",
       "      <td>0</td>\n",
       "      <td>0</td>\n",
       "      <td>0</td>\n",
       "      <td>40</td>\n",
       "      <td>0</td>\n",
       "      <td>2,000,000.0000</td>\n",
       "      <td>0.0000</td>\n",
       "      <td>6</td>\n",
       "      <td>6</td>\n",
       "      <td>6.0000</td>\n",
       "      <td>0.0000</td>\n",
       "      <td>0.0000</td>\n",
       "      <td>0</td>\n",
       "      <td>0</td>\n",
       "      <td>0</td>\n",
       "      <td>0</td>\n",
       "      <td>1</td>\n",
       "      <td>1</td>\n",
       "      <td>0</td>\n",
       "      <td>0</td>\n",
       "      <td>0</td>\n",
       "      <td>9.0000</td>\n",
       "      <td>6.0000</td>\n",
       "      <td>0.0000</td>\n",
       "      <td>40</td>\n",
       "      <td>0</td>\n",
       "      <td>0</td>\n",
       "      <td>0</td>\n",
       "      <td>0</td>\n",
       "      <td>0</td>\n",
       "      <td>0</td>\n",
       "      <td>2</td>\n",
       "      <td>12</td>\n",
       "      <td>0</td>\n",
       "      <td>0</td>\n",
       "      <td>329</td>\n",
       "      <td>-1</td>\n",
       "      <td>1</td>\n",
       "      <td>20</td>\n",
       "      <td>0.0000</td>\n",
       "      <td>0.0000</td>\n",
       "      <td>0</td>\n",
       "      <td>0</td>\n",
       "      <td>0.0000</td>\n",
       "      <td>0.0000</td>\n",
       "      <td>0</td>\n",
       "      <td>0</td>\n",
       "      <td>BENIGN</td>\n",
       "    </tr>\n",
       "    <tr>\n",
       "      <th>4</th>\n",
       "      <td>4</td>\n",
       "      <td>49486</td>\n",
       "      <td>3</td>\n",
       "      <td>2</td>\n",
       "      <td>0</td>\n",
       "      <td>12</td>\n",
       "      <td>0</td>\n",
       "      <td>6</td>\n",
       "      <td>6</td>\n",
       "      <td>6.0000</td>\n",
       "      <td>0.0000</td>\n",
       "      <td>0</td>\n",
       "      <td>0</td>\n",
       "      <td>0.0000</td>\n",
       "      <td>0.0000</td>\n",
       "      <td>4,000,000.0000</td>\n",
       "      <td>666,666.6667</td>\n",
       "      <td>3.0000</td>\n",
       "      <td>0.0000</td>\n",
       "      <td>3</td>\n",
       "      <td>3</td>\n",
       "      <td>3</td>\n",
       "      <td>3.0000</td>\n",
       "      <td>0.0000</td>\n",
       "      <td>3</td>\n",
       "      <td>3</td>\n",
       "      <td>0</td>\n",
       "      <td>0.0000</td>\n",
       "      <td>0.0000</td>\n",
       "      <td>0</td>\n",
       "      <td>0</td>\n",
       "      <td>0</td>\n",
       "      <td>0</td>\n",
       "      <td>0</td>\n",
       "      <td>0</td>\n",
       "      <td>40</td>\n",
       "      <td>0</td>\n",
       "      <td>666,666.6667</td>\n",
       "      <td>0.0000</td>\n",
       "      <td>6</td>\n",
       "      <td>6</td>\n",
       "      <td>6.0000</td>\n",
       "      <td>0.0000</td>\n",
       "      <td>0.0000</td>\n",
       "      <td>0</td>\n",
       "      <td>0</td>\n",
       "      <td>0</td>\n",
       "      <td>0</td>\n",
       "      <td>1</td>\n",
       "      <td>1</td>\n",
       "      <td>0</td>\n",
       "      <td>0</td>\n",
       "      <td>0</td>\n",
       "      <td>9.0000</td>\n",
       "      <td>6.0000</td>\n",
       "      <td>0.0000</td>\n",
       "      <td>40</td>\n",
       "      <td>0</td>\n",
       "      <td>0</td>\n",
       "      <td>0</td>\n",
       "      <td>0</td>\n",
       "      <td>0</td>\n",
       "      <td>0</td>\n",
       "      <td>2</td>\n",
       "      <td>12</td>\n",
       "      <td>0</td>\n",
       "      <td>0</td>\n",
       "      <td>245</td>\n",
       "      <td>-1</td>\n",
       "      <td>1</td>\n",
       "      <td>20</td>\n",
       "      <td>0.0000</td>\n",
       "      <td>0.0000</td>\n",
       "      <td>0</td>\n",
       "      <td>0</td>\n",
       "      <td>0.0000</td>\n",
       "      <td>0.0000</td>\n",
       "      <td>0</td>\n",
       "      <td>0</td>\n",
       "      <td>BENIGN</td>\n",
       "    </tr>\n",
       "    <tr>\n",
       "      <th>5</th>\n",
       "      <td>5</td>\n",
       "      <td>49486</td>\n",
       "      <td>1</td>\n",
       "      <td>2</td>\n",
       "      <td>0</td>\n",
       "      <td>12</td>\n",
       "      <td>0</td>\n",
       "      <td>6</td>\n",
       "      <td>6</td>\n",
       "      <td>6.0000</td>\n",
       "      <td>0.0000</td>\n",
       "      <td>0</td>\n",
       "      <td>0</td>\n",
       "      <td>0.0000</td>\n",
       "      <td>0.0000</td>\n",
       "      <td>12,000,000.0000</td>\n",
       "      <td>2,000,000.0000</td>\n",
       "      <td>1.0000</td>\n",
       "      <td>0.0000</td>\n",
       "      <td>1</td>\n",
       "      <td>1</td>\n",
       "      <td>1</td>\n",
       "      <td>1.0000</td>\n",
       "      <td>0.0000</td>\n",
       "      <td>1</td>\n",
       "      <td>1</td>\n",
       "      <td>0</td>\n",
       "      <td>0.0000</td>\n",
       "      <td>0.0000</td>\n",
       "      <td>0</td>\n",
       "      <td>0</td>\n",
       "      <td>0</td>\n",
       "      <td>0</td>\n",
       "      <td>0</td>\n",
       "      <td>0</td>\n",
       "      <td>40</td>\n",
       "      <td>0</td>\n",
       "      <td>2,000,000.0000</td>\n",
       "      <td>0.0000</td>\n",
       "      <td>6</td>\n",
       "      <td>6</td>\n",
       "      <td>6.0000</td>\n",
       "      <td>0.0000</td>\n",
       "      <td>0.0000</td>\n",
       "      <td>0</td>\n",
       "      <td>0</td>\n",
       "      <td>0</td>\n",
       "      <td>0</td>\n",
       "      <td>1</td>\n",
       "      <td>1</td>\n",
       "      <td>0</td>\n",
       "      <td>0</td>\n",
       "      <td>0</td>\n",
       "      <td>9.0000</td>\n",
       "      <td>6.0000</td>\n",
       "      <td>0.0000</td>\n",
       "      <td>40</td>\n",
       "      <td>0</td>\n",
       "      <td>0</td>\n",
       "      <td>0</td>\n",
       "      <td>0</td>\n",
       "      <td>0</td>\n",
       "      <td>0</td>\n",
       "      <td>2</td>\n",
       "      <td>12</td>\n",
       "      <td>0</td>\n",
       "      <td>0</td>\n",
       "      <td>245</td>\n",
       "      <td>-1</td>\n",
       "      <td>1</td>\n",
       "      <td>20</td>\n",
       "      <td>0.0000</td>\n",
       "      <td>0.0000</td>\n",
       "      <td>0</td>\n",
       "      <td>0</td>\n",
       "      <td>0.0000</td>\n",
       "      <td>0.0000</td>\n",
       "      <td>0</td>\n",
       "      <td>0</td>\n",
       "      <td>BENIGN</td>\n",
       "    </tr>\n",
       "    <tr>\n",
       "      <th>6</th>\n",
       "      <td>6</td>\n",
       "      <td>49486</td>\n",
       "      <td>1</td>\n",
       "      <td>2</td>\n",
       "      <td>0</td>\n",
       "      <td>12</td>\n",
       "      <td>0</td>\n",
       "      <td>6</td>\n",
       "      <td>6</td>\n",
       "      <td>6.0000</td>\n",
       "      <td>0.0000</td>\n",
       "      <td>0</td>\n",
       "      <td>0</td>\n",
       "      <td>0.0000</td>\n",
       "      <td>0.0000</td>\n",
       "      <td>12,000,000.0000</td>\n",
       "      <td>2,000,000.0000</td>\n",
       "      <td>1.0000</td>\n",
       "      <td>0.0000</td>\n",
       "      <td>1</td>\n",
       "      <td>1</td>\n",
       "      <td>1</td>\n",
       "      <td>1.0000</td>\n",
       "      <td>0.0000</td>\n",
       "      <td>1</td>\n",
       "      <td>1</td>\n",
       "      <td>0</td>\n",
       "      <td>0.0000</td>\n",
       "      <td>0.0000</td>\n",
       "      <td>0</td>\n",
       "      <td>0</td>\n",
       "      <td>0</td>\n",
       "      <td>0</td>\n",
       "      <td>0</td>\n",
       "      <td>0</td>\n",
       "      <td>40</td>\n",
       "      <td>0</td>\n",
       "      <td>2,000,000.0000</td>\n",
       "      <td>0.0000</td>\n",
       "      <td>6</td>\n",
       "      <td>6</td>\n",
       "      <td>6.0000</td>\n",
       "      <td>0.0000</td>\n",
       "      <td>0.0000</td>\n",
       "      <td>0</td>\n",
       "      <td>0</td>\n",
       "      <td>0</td>\n",
       "      <td>0</td>\n",
       "      <td>1</td>\n",
       "      <td>1</td>\n",
       "      <td>0</td>\n",
       "      <td>0</td>\n",
       "      <td>0</td>\n",
       "      <td>9.0000</td>\n",
       "      <td>6.0000</td>\n",
       "      <td>0.0000</td>\n",
       "      <td>40</td>\n",
       "      <td>0</td>\n",
       "      <td>0</td>\n",
       "      <td>0</td>\n",
       "      <td>0</td>\n",
       "      <td>0</td>\n",
       "      <td>0</td>\n",
       "      <td>2</td>\n",
       "      <td>12</td>\n",
       "      <td>0</td>\n",
       "      <td>0</td>\n",
       "      <td>245</td>\n",
       "      <td>-1</td>\n",
       "      <td>1</td>\n",
       "      <td>20</td>\n",
       "      <td>0.0000</td>\n",
       "      <td>0.0000</td>\n",
       "      <td>0</td>\n",
       "      <td>0</td>\n",
       "      <td>0.0000</td>\n",
       "      <td>0.0000</td>\n",
       "      <td>0</td>\n",
       "      <td>0</td>\n",
       "      <td>BENIGN</td>\n",
       "    </tr>\n",
       "    <tr>\n",
       "      <th>7</th>\n",
       "      <td>7</td>\n",
       "      <td>49486</td>\n",
       "      <td>1</td>\n",
       "      <td>2</td>\n",
       "      <td>0</td>\n",
       "      <td>12</td>\n",
       "      <td>0</td>\n",
       "      <td>6</td>\n",
       "      <td>6</td>\n",
       "      <td>6.0000</td>\n",
       "      <td>0.0000</td>\n",
       "      <td>0</td>\n",
       "      <td>0</td>\n",
       "      <td>0.0000</td>\n",
       "      <td>0.0000</td>\n",
       "      <td>12,000,000.0000</td>\n",
       "      <td>2,000,000.0000</td>\n",
       "      <td>1.0000</td>\n",
       "      <td>0.0000</td>\n",
       "      <td>1</td>\n",
       "      <td>1</td>\n",
       "      <td>1</td>\n",
       "      <td>1.0000</td>\n",
       "      <td>0.0000</td>\n",
       "      <td>1</td>\n",
       "      <td>1</td>\n",
       "      <td>0</td>\n",
       "      <td>0.0000</td>\n",
       "      <td>0.0000</td>\n",
       "      <td>0</td>\n",
       "      <td>0</td>\n",
       "      <td>0</td>\n",
       "      <td>0</td>\n",
       "      <td>0</td>\n",
       "      <td>0</td>\n",
       "      <td>40</td>\n",
       "      <td>0</td>\n",
       "      <td>2,000,000.0000</td>\n",
       "      <td>0.0000</td>\n",
       "      <td>6</td>\n",
       "      <td>6</td>\n",
       "      <td>6.0000</td>\n",
       "      <td>0.0000</td>\n",
       "      <td>0.0000</td>\n",
       "      <td>0</td>\n",
       "      <td>0</td>\n",
       "      <td>0</td>\n",
       "      <td>0</td>\n",
       "      <td>1</td>\n",
       "      <td>1</td>\n",
       "      <td>0</td>\n",
       "      <td>0</td>\n",
       "      <td>0</td>\n",
       "      <td>9.0000</td>\n",
       "      <td>6.0000</td>\n",
       "      <td>0.0000</td>\n",
       "      <td>40</td>\n",
       "      <td>0</td>\n",
       "      <td>0</td>\n",
       "      <td>0</td>\n",
       "      <td>0</td>\n",
       "      <td>0</td>\n",
       "      <td>0</td>\n",
       "      <td>2</td>\n",
       "      <td>12</td>\n",
       "      <td>0</td>\n",
       "      <td>0</td>\n",
       "      <td>245</td>\n",
       "      <td>-1</td>\n",
       "      <td>1</td>\n",
       "      <td>20</td>\n",
       "      <td>0.0000</td>\n",
       "      <td>0.0000</td>\n",
       "      <td>0</td>\n",
       "      <td>0</td>\n",
       "      <td>0.0000</td>\n",
       "      <td>0.0000</td>\n",
       "      <td>0</td>\n",
       "      <td>0</td>\n",
       "      <td>BENIGN</td>\n",
       "    </tr>\n",
       "    <tr>\n",
       "      <th>8</th>\n",
       "      <td>8</td>\n",
       "      <td>88</td>\n",
       "      <td>609</td>\n",
       "      <td>7</td>\n",
       "      <td>4</td>\n",
       "      <td>484</td>\n",
       "      <td>414</td>\n",
       "      <td>233</td>\n",
       "      <td>0</td>\n",
       "      <td>69.1429</td>\n",
       "      <td>111.9679</td>\n",
       "      <td>207</td>\n",
       "      <td>0</td>\n",
       "      <td>103.5000</td>\n",
       "      <td>119.5115</td>\n",
       "      <td>1,474,548.4401</td>\n",
       "      <td>18,062.3974</td>\n",
       "      <td>60.9000</td>\n",
       "      <td>115.1950</td>\n",
       "      <td>381</td>\n",
       "      <td>2</td>\n",
       "      <td>609</td>\n",
       "      <td>101.5000</td>\n",
       "      <td>177.0895</td>\n",
       "      <td>460</td>\n",
       "      <td>2</td>\n",
       "      <td>467</td>\n",
       "      <td>155.6667</td>\n",
       "      <td>263.5609</td>\n",
       "      <td>460</td>\n",
       "      <td>3</td>\n",
       "      <td>0</td>\n",
       "      <td>0</td>\n",
       "      <td>0</td>\n",
       "      <td>0</td>\n",
       "      <td>164</td>\n",
       "      <td>104</td>\n",
       "      <td>11,494.2529</td>\n",
       "      <td>6,568.1445</td>\n",
       "      <td>0</td>\n",
       "      <td>233</td>\n",
       "      <td>74.8333</td>\n",
       "      <td>107.5274</td>\n",
       "      <td>11,562.1515</td>\n",
       "      <td>0</td>\n",
       "      <td>0</td>\n",
       "      <td>0</td>\n",
       "      <td>1</td>\n",
       "      <td>0</td>\n",
       "      <td>0</td>\n",
       "      <td>0</td>\n",
       "      <td>0</td>\n",
       "      <td>0</td>\n",
       "      <td>81.6364</td>\n",
       "      <td>69.1429</td>\n",
       "      <td>103.5000</td>\n",
       "      <td>164</td>\n",
       "      <td>0</td>\n",
       "      <td>0</td>\n",
       "      <td>0</td>\n",
       "      <td>0</td>\n",
       "      <td>0</td>\n",
       "      <td>0</td>\n",
       "      <td>7</td>\n",
       "      <td>484</td>\n",
       "      <td>4</td>\n",
       "      <td>414</td>\n",
       "      <td>8192</td>\n",
       "      <td>2053</td>\n",
       "      <td>5</td>\n",
       "      <td>20</td>\n",
       "      <td>0.0000</td>\n",
       "      <td>0.0000</td>\n",
       "      <td>0</td>\n",
       "      <td>0</td>\n",
       "      <td>0.0000</td>\n",
       "      <td>0.0000</td>\n",
       "      <td>0</td>\n",
       "      <td>0</td>\n",
       "      <td>BENIGN</td>\n",
       "    </tr>\n",
       "    <tr>\n",
       "      <th>9</th>\n",
       "      <td>9</td>\n",
       "      <td>88</td>\n",
       "      <td>879</td>\n",
       "      <td>9</td>\n",
       "      <td>4</td>\n",
       "      <td>656</td>\n",
       "      <td>3064</td>\n",
       "      <td>313</td>\n",
       "      <td>0</td>\n",
       "      <td>72.8889</td>\n",
       "      <td>136.1538</td>\n",
       "      <td>1532</td>\n",
       "      <td>0</td>\n",
       "      <td>766.0000</td>\n",
       "      <td>884.5006</td>\n",
       "      <td>4,232,081.9113</td>\n",
       "      <td>14,789.5336</td>\n",
       "      <td>73.2500</td>\n",
       "      <td>209.0551</td>\n",
       "      <td>734</td>\n",
       "      <td>1</td>\n",
       "      <td>879</td>\n",
       "      <td>109.8750</td>\n",
       "      <td>281.9774</td>\n",
       "      <td>806</td>\n",
       "      <td>1</td>\n",
       "      <td>764</td>\n",
       "      <td>254.6667</td>\n",
       "      <td>434.1686</td>\n",
       "      <td>756</td>\n",
       "      <td>3</td>\n",
       "      <td>0</td>\n",
       "      <td>0</td>\n",
       "      <td>0</td>\n",
       "      <td>0</td>\n",
       "      <td>204</td>\n",
       "      <td>104</td>\n",
       "      <td>10,238.9078</td>\n",
       "      <td>4,550.6257</td>\n",
       "      <td>0</td>\n",
       "      <td>1532</td>\n",
       "      <td>265.7143</td>\n",
       "      <td>547.8425</td>\n",
       "      <td>300,131.4505</td>\n",
       "      <td>0</td>\n",
       "      <td>0</td>\n",
       "      <td>0</td>\n",
       "      <td>1</td>\n",
       "      <td>0</td>\n",
       "      <td>0</td>\n",
       "      <td>0</td>\n",
       "      <td>0</td>\n",
       "      <td>0</td>\n",
       "      <td>286.1538</td>\n",
       "      <td>72.8889</td>\n",
       "      <td>766.0000</td>\n",
       "      <td>204</td>\n",
       "      <td>0</td>\n",
       "      <td>0</td>\n",
       "      <td>0</td>\n",
       "      <td>0</td>\n",
       "      <td>0</td>\n",
       "      <td>0</td>\n",
       "      <td>9</td>\n",
       "      <td>656</td>\n",
       "      <td>4</td>\n",
       "      <td>3064</td>\n",
       "      <td>8192</td>\n",
       "      <td>2053</td>\n",
       "      <td>7</td>\n",
       "      <td>20</td>\n",
       "      <td>0.0000</td>\n",
       "      <td>0.0000</td>\n",
       "      <td>0</td>\n",
       "      <td>0</td>\n",
       "      <td>0.0000</td>\n",
       "      <td>0.0000</td>\n",
       "      <td>0</td>\n",
       "      <td>0</td>\n",
       "      <td>BENIGN</td>\n",
       "    </tr>\n",
       "  </tbody>\n",
       "</table>\n",
       "</div>"
      ],
      "text/plain": [
       "   Unnamed: 0  DestinationPort  FlowDuration  TotalFwdPackets  \\\n",
       "0           0            49188             4                2   \n",
       "1           1            49188             1                2   \n",
       "2           2            49188             1                2   \n",
       "3           3            49188             1                2   \n",
       "4           4            49486             3                2   \n",
       "5           5            49486             1                2   \n",
       "6           6            49486             1                2   \n",
       "7           7            49486             1                2   \n",
       "8           8               88           609                7   \n",
       "9           9               88           879                9   \n",
       "\n",
       "   TotalBackwardPackets  TotalLengthofFwdPackets  TotalLengthofBwdPackets  \\\n",
       "0                     0                       12                        0   \n",
       "1                     0                       12                        0   \n",
       "2                     0                       12                        0   \n",
       "3                     0                       12                        0   \n",
       "4                     0                       12                        0   \n",
       "5                     0                       12                        0   \n",
       "6                     0                       12                        0   \n",
       "7                     0                       12                        0   \n",
       "8                     4                      484                      414   \n",
       "9                     4                      656                     3064   \n",
       "\n",
       "   FwdPacketLengthMax  FwdPacketLengthMin  FwdPacketLengthMean  \\\n",
       "0                   6                   6               6.0000   \n",
       "1                   6                   6               6.0000   \n",
       "2                   6                   6               6.0000   \n",
       "3                   6                   6               6.0000   \n",
       "4                   6                   6               6.0000   \n",
       "5                   6                   6               6.0000   \n",
       "6                   6                   6               6.0000   \n",
       "7                   6                   6               6.0000   \n",
       "8                 233                   0              69.1429   \n",
       "9                 313                   0              72.8889   \n",
       "\n",
       "    FwdPacketLengthStd  BwdPacketLengthMax  BwdPacketLengthMin  \\\n",
       "0               0.0000                   0                   0   \n",
       "1               0.0000                   0                   0   \n",
       "2               0.0000                   0                   0   \n",
       "3               0.0000                   0                   0   \n",
       "4               0.0000                   0                   0   \n",
       "5               0.0000                   0                   0   \n",
       "6               0.0000                   0                   0   \n",
       "7               0.0000                   0                   0   \n",
       "8             111.9679                 207                   0   \n",
       "9             136.1538                1532                   0   \n",
       "\n",
       "   BwdPacketLengthMean   BwdPacketLengthStd          FlowBytes/s  \\\n",
       "0               0.0000               0.0000       3,000,000.0000   \n",
       "1               0.0000               0.0000      12,000,000.0000   \n",
       "2               0.0000               0.0000      12,000,000.0000   \n",
       "3               0.0000               0.0000      12,000,000.0000   \n",
       "4               0.0000               0.0000       4,000,000.0000   \n",
       "5               0.0000               0.0000      12,000,000.0000   \n",
       "6               0.0000               0.0000      12,000,000.0000   \n",
       "7               0.0000               0.0000      12,000,000.0000   \n",
       "8             103.5000             119.5115       1,474,548.4401   \n",
       "9             766.0000             884.5006       4,232,081.9113   \n",
       "\n",
       "         FlowPackets/s          FlowIATMean           FlowIATStd  FlowIATMax  \\\n",
       "0         500,000.0000               4.0000               0.0000           4   \n",
       "1       2,000,000.0000               1.0000               0.0000           1   \n",
       "2       2,000,000.0000               1.0000               0.0000           1   \n",
       "3       2,000,000.0000               1.0000               0.0000           1   \n",
       "4         666,666.6667               3.0000               0.0000           3   \n",
       "5       2,000,000.0000               1.0000               0.0000           1   \n",
       "6       2,000,000.0000               1.0000               0.0000           1   \n",
       "7       2,000,000.0000               1.0000               0.0000           1   \n",
       "8          18,062.3974              60.9000             115.1950         381   \n",
       "9          14,789.5336              73.2500             209.0551         734   \n",
       "\n",
       "   FlowIATMin  FwdIATTotal           FwdIATMean            FwdIATStd  \\\n",
       "0           4            4               4.0000               0.0000   \n",
       "1           1            1               1.0000               0.0000   \n",
       "2           1            1               1.0000               0.0000   \n",
       "3           1            1               1.0000               0.0000   \n",
       "4           3            3               3.0000               0.0000   \n",
       "5           1            1               1.0000               0.0000   \n",
       "6           1            1               1.0000               0.0000   \n",
       "7           1            1               1.0000               0.0000   \n",
       "8           2          609             101.5000             177.0895   \n",
       "9           1          879             109.8750             281.9774   \n",
       "\n",
       "   FwdIATMax  FwdIATMin  BwdIATTotal           BwdIATMean  \\\n",
       "0          4          4            0               0.0000   \n",
       "1          1          1            0               0.0000   \n",
       "2          1          1            0               0.0000   \n",
       "3          1          1            0               0.0000   \n",
       "4          3          3            0               0.0000   \n",
       "5          1          1            0               0.0000   \n",
       "6          1          1            0               0.0000   \n",
       "7          1          1            0               0.0000   \n",
       "8        460          2          467             155.6667   \n",
       "9        806          1          764             254.6667   \n",
       "\n",
       "             BwdIATStd  BwdIATMax  BwdIATMin  FwdPSHFlags  BwdPSHFlags  \\\n",
       "0               0.0000          0          0            0            0   \n",
       "1               0.0000          0          0            0            0   \n",
       "2               0.0000          0          0            0            0   \n",
       "3               0.0000          0          0            0            0   \n",
       "4               0.0000          0          0            0            0   \n",
       "5               0.0000          0          0            0            0   \n",
       "6               0.0000          0          0            0            0   \n",
       "7               0.0000          0          0            0            0   \n",
       "8             263.5609        460          3            0            0   \n",
       "9             434.1686        756          3            0            0   \n",
       "\n",
       "   FwdURGFlags  BwdURGFlags  FwdHeaderLength  BwdHeaderLength  \\\n",
       "0            0            0               40                0   \n",
       "1            0            0               40                0   \n",
       "2            0            0               40                0   \n",
       "3            0            0               40                0   \n",
       "4            0            0               40                0   \n",
       "5            0            0               40                0   \n",
       "6            0            0               40                0   \n",
       "7            0            0               40                0   \n",
       "8            0            0              164              104   \n",
       "9            0            0              204              104   \n",
       "\n",
       "          FwdPackets/s         BwdPackets/s  MinPacketLength  MaxPacketLength  \\\n",
       "0         500,000.0000               0.0000                6                6   \n",
       "1       2,000,000.0000               0.0000                6                6   \n",
       "2       2,000,000.0000               0.0000                6                6   \n",
       "3       2,000,000.0000               0.0000                6                6   \n",
       "4         666,666.6667               0.0000                6                6   \n",
       "5       2,000,000.0000               0.0000                6                6   \n",
       "6       2,000,000.0000               0.0000                6                6   \n",
       "7       2,000,000.0000               0.0000                6                6   \n",
       "8          11,494.2529           6,568.1445                0              233   \n",
       "9          10,238.9078           4,550.6257                0             1532   \n",
       "\n",
       "      PacketLengthMean      PacketLengthStd  PacketLengthVariance  \\\n",
       "0               6.0000               0.0000                0.0000   \n",
       "1               6.0000               0.0000                0.0000   \n",
       "2               6.0000               0.0000                0.0000   \n",
       "3               6.0000               0.0000                0.0000   \n",
       "4               6.0000               0.0000                0.0000   \n",
       "5               6.0000               0.0000                0.0000   \n",
       "6               6.0000               0.0000                0.0000   \n",
       "7               6.0000               0.0000                0.0000   \n",
       "8              74.8333             107.5274           11,562.1515   \n",
       "9             265.7143             547.8425          300,131.4505   \n",
       "\n",
       "   FINFlagCount  SYNFlagCount  RSTFlagCount  PSHFlagCount  ACKFlagCount  \\\n",
       "0             0             0             0             0             1   \n",
       "1             0             0             0             0             1   \n",
       "2             0             0             0             0             1   \n",
       "3             0             0             0             0             1   \n",
       "4             0             0             0             0             1   \n",
       "5             0             0             0             0             1   \n",
       "6             0             0             0             0             1   \n",
       "7             0             0             0             0             1   \n",
       "8             0             0             0             1             0   \n",
       "9             0             0             0             1             0   \n",
       "\n",
       "   URGFlagCount  CWEFlagCount  ECEFlagCount  Down/UpRatio  \\\n",
       "0             1             0             0             0   \n",
       "1             1             0             0             0   \n",
       "2             1             0             0             0   \n",
       "3             1             0             0             0   \n",
       "4             1             0             0             0   \n",
       "5             1             0             0             0   \n",
       "6             1             0             0             0   \n",
       "7             1             0             0             0   \n",
       "8             0             0             0             0   \n",
       "9             0             0             0             0   \n",
       "\n",
       "     AveragePacketSize    AvgFwdSegmentSize    AvgBwdSegmentSize  \\\n",
       "0               9.0000               6.0000               0.0000   \n",
       "1               9.0000               6.0000               0.0000   \n",
       "2               9.0000               6.0000               0.0000   \n",
       "3               9.0000               6.0000               0.0000   \n",
       "4               9.0000               6.0000               0.0000   \n",
       "5               9.0000               6.0000               0.0000   \n",
       "6               9.0000               6.0000               0.0000   \n",
       "7               9.0000               6.0000               0.0000   \n",
       "8              81.6364              69.1429             103.5000   \n",
       "9             286.1538              72.8889             766.0000   \n",
       "\n",
       "   FwdHeaderLength.1  FwdAvgBytes/Bulk  FwdAvgPackets/Bulk  FwdAvgBulkRate  \\\n",
       "0                 40                 0                   0               0   \n",
       "1                 40                 0                   0               0   \n",
       "2                 40                 0                   0               0   \n",
       "3                 40                 0                   0               0   \n",
       "4                 40                 0                   0               0   \n",
       "5                 40                 0                   0               0   \n",
       "6                 40                 0                   0               0   \n",
       "7                 40                 0                   0               0   \n",
       "8                164                 0                   0               0   \n",
       "9                204                 0                   0               0   \n",
       "\n",
       "   BwdAvgBytes/Bulk  BwdAvgPackets/Bulk  BwdAvgBulkRate  SubflowFwdPackets  \\\n",
       "0                 0                   0               0                  2   \n",
       "1                 0                   0               0                  2   \n",
       "2                 0                   0               0                  2   \n",
       "3                 0                   0               0                  2   \n",
       "4                 0                   0               0                  2   \n",
       "5                 0                   0               0                  2   \n",
       "6                 0                   0               0                  2   \n",
       "7                 0                   0               0                  2   \n",
       "8                 0                   0               0                  7   \n",
       "9                 0                   0               0                  9   \n",
       "\n",
       "   SubflowFwdBytes  SubflowBwdPackets  SubflowBwdBytes  \\\n",
       "0               12                  0                0   \n",
       "1               12                  0                0   \n",
       "2               12                  0                0   \n",
       "3               12                  0                0   \n",
       "4               12                  0                0   \n",
       "5               12                  0                0   \n",
       "6               12                  0                0   \n",
       "7               12                  0                0   \n",
       "8              484                  4              414   \n",
       "9              656                  4             3064   \n",
       "\n",
       "   Init_Win_bytes_forward  Init_Win_bytes_backward  act_data_pkt_fwd  \\\n",
       "0                     329                       -1                 1   \n",
       "1                     329                       -1                 1   \n",
       "2                     329                       -1                 1   \n",
       "3                     329                       -1                 1   \n",
       "4                     245                       -1                 1   \n",
       "5                     245                       -1                 1   \n",
       "6                     245                       -1                 1   \n",
       "7                     245                       -1                 1   \n",
       "8                    8192                     2053                 5   \n",
       "9                    8192                     2053                 7   \n",
       "\n",
       "   min_seg_size_forward           ActiveMean            ActiveStd  ActiveMax  \\\n",
       "0                    20               0.0000               0.0000          0   \n",
       "1                    20               0.0000               0.0000          0   \n",
       "2                    20               0.0000               0.0000          0   \n",
       "3                    20               0.0000               0.0000          0   \n",
       "4                    20               0.0000               0.0000          0   \n",
       "5                    20               0.0000               0.0000          0   \n",
       "6                    20               0.0000               0.0000          0   \n",
       "7                    20               0.0000               0.0000          0   \n",
       "8                    20               0.0000               0.0000          0   \n",
       "9                    20               0.0000               0.0000          0   \n",
       "\n",
       "   ActiveMin             IdleMean              IdleStd  IdleMax  IdleMin  \\\n",
       "0          0               0.0000               0.0000        0        0   \n",
       "1          0               0.0000               0.0000        0        0   \n",
       "2          0               0.0000               0.0000        0        0   \n",
       "3          0               0.0000               0.0000        0        0   \n",
       "4          0               0.0000               0.0000        0        0   \n",
       "5          0               0.0000               0.0000        0        0   \n",
       "6          0               0.0000               0.0000        0        0   \n",
       "7          0               0.0000               0.0000        0        0   \n",
       "8          0               0.0000               0.0000        0        0   \n",
       "9          0               0.0000               0.0000        0        0   \n",
       "\n",
       "    Label  \n",
       "0  BENIGN  \n",
       "1  BENIGN  \n",
       "2  BENIGN  \n",
       "3  BENIGN  \n",
       "4  BENIGN  \n",
       "5  BENIGN  \n",
       "6  BENIGN  \n",
       "7  BENIGN  \n",
       "8  BENIGN  \n",
       "9  BENIGN  "
      ]
     },
     "execution_count": 4,
     "metadata": {},
     "output_type": "execute_result"
    }
   ],
   "source": [
    "data_cleaned.head(10)"
   ]
  },
  {
   "cell_type": "code",
   "execution_count": 5,
   "id": "timely-extraction",
   "metadata": {
    "execution": {
     "iopub.execute_input": "2021-05-06T23:27:15.603636Z",
     "iopub.status.busy": "2021-05-06T23:27:15.603492Z",
     "iopub.status.idle": "2021-05-06T23:27:15.719573Z",
     "shell.execute_reply": "2021-05-06T23:27:15.719186Z",
     "shell.execute_reply.started": "2021-05-06T23:27:15.603620Z"
    }
   },
   "outputs": [
    {
     "data": {
      "text/plain": [
       "array(['BENIGN', 'FTP-Patator', 'SSH-Patator', 'DoS slowloris',\n",
       "       'DoS Slowhttptest', 'DoS Hulk', 'DoS GoldenEye', 'Heartbleed',\n",
       "       'Web Attack � Brute Force', 'Web Attack � XSS',\n",
       "       'Web Attack � Sql Injection', 'Infiltration', 'Bot', 'DDoS',\n",
       "       'PortScan'], dtype=object)"
      ]
     },
     "execution_count": 5,
     "metadata": {},
     "output_type": "execute_result"
    }
   ],
   "source": [
    "data_cleaned.Label.unique()"
   ]
  },
  {
   "cell_type": "code",
   "execution_count": 6,
   "id": "august-horse",
   "metadata": {
    "execution": {
     "iopub.execute_input": "2021-05-06T23:27:15.720637Z",
     "iopub.status.busy": "2021-05-06T23:27:15.720489Z",
     "iopub.status.idle": "2021-05-06T23:27:16.334976Z",
     "shell.execute_reply": "2021-05-06T23:27:16.334384Z",
     "shell.execute_reply.started": "2021-05-06T23:27:15.720621Z"
    }
   },
   "outputs": [
    {
     "data": {
      "image/png": "[encoded data removed]",
      "text/plain": [
       "<Figure size 720x360 with 1 Axes>"
      ]
     },
     "metadata": {
      "needs_background": "light"
     },
     "output_type": "display_data"
    }
   ],
   "source": [
    "## Types of attacks featured in dataset\n",
    "data_cleaned.loc[data_cleaned.Label!='BENIGN'].Label.value_counts().plot.barh(figsize=(10,5), color='crimson')\n",
    "plt.title('Attacks in Dataset')\n",
    "plt.show()"
   ]
  },
  {
   "cell_type": "code",
   "execution_count": 7,
   "id": "future-correction",
   "metadata": {
    "execution": {
     "iopub.execute_input": "2021-05-06T23:27:16.336087Z",
     "iopub.status.busy": "2021-05-06T23:27:16.335916Z",
     "iopub.status.idle": "2021-05-06T23:27:16.454688Z",
     "shell.execute_reply": "2021-05-06T23:27:16.454180Z",
     "shell.execute_reply.started": "2021-05-06T23:27:16.336068Z"
    }
   },
   "outputs": [
    {
     "data": {
      "text/plain": [
       "array(['BENIGN', 'FTP-Patator', 'SSH-Patator', 'DoS slowloris',\n",
       "       'DoS Slowhttptest', 'DoS Hulk', 'DoS GoldenEye', 'Heartbleed',\n",
       "       'Web Attack � Brute Force', 'Web Attack � XSS',\n",
       "       'Web Attack � Sql Injection', 'Infiltration', 'Bot', 'DDoS',\n",
       "       'PortScan'], dtype=object)"
      ]
     },
     "execution_count": 7,
     "metadata": {},
     "output_type": "execute_result"
    }
   ],
   "source": [
    "data_cleaned.Label.unique()"
   ]
  },
  {
   "cell_type": "code",
   "execution_count": 8,
   "id": "economic-spirit",
   "metadata": {
    "execution": {
     "iopub.execute_input": "2021-05-06T23:27:16.455537Z",
     "iopub.status.busy": "2021-05-06T23:27:16.455396Z",
     "iopub.status.idle": "2021-05-06T23:27:16.753957Z",
     "shell.execute_reply": "2021-05-06T23:27:16.753126Z",
     "shell.execute_reply.started": "2021-05-06T23:27:16.455521Z"
    }
   },
   "outputs": [],
   "source": [
    "## Create target field (intrusion or no intrusion) for Not Attack Specific Models\n",
    "data_cleaned['Intrusion']=np.nan\n",
    "data_cleaned.loc[data_cleaned['Label'] == 'BENIGN', 'Intrusion'] = 0\n",
    "data_cleaned.loc[data_cleaned['Label'] != 'BENIGN', 'Intrusion'] = 1"
   ]
  },
  {
   "cell_type": "code",
   "execution_count": 9,
   "id": "adaptive-indie",
   "metadata": {
    "execution": {
     "iopub.execute_input": "2021-05-06T23:27:16.754900Z",
     "iopub.status.busy": "2021-05-06T23:27:16.754745Z",
     "iopub.status.idle": "2021-05-06T23:27:16.777873Z",
     "shell.execute_reply": "2021-05-06T23:27:16.777397Z",
     "shell.execute_reply.started": "2021-05-06T23:27:16.754882Z"
    }
   },
   "outputs": [
    {
     "data": {
      "text/plain": [
       "0.0000    2271320\n",
       "1.0000     556556\n",
       "Name: Intrusion, dtype: int64"
      ]
     },
     "execution_count": 9,
     "metadata": {},
     "output_type": "execute_result"
    }
   ],
   "source": [
    "data_cleaned.Intrusion.value_counts()"
   ]
  },
  {
   "cell_type": "code",
   "execution_count": 11,
   "id": "checked-pursuit",
   "metadata": {
    "execution": {
     "iopub.execute_input": "2021-05-06T23:27:41.124230Z",
     "iopub.status.busy": "2021-05-06T23:27:41.123724Z",
     "iopub.status.idle": "2021-05-06T23:27:41.138344Z",
     "shell.execute_reply": "2021-05-06T23:27:41.137294Z",
     "shell.execute_reply.started": "2021-05-06T23:27:41.124176Z"
    }
   },
   "outputs": [
    {
     "name": "stdout",
     "output_type": "stream",
     "text": [
      "Initial Intrusion ratio: 0.19681060980042972\n"
     ]
    }
   ],
   "source": [
    "print('Initial Intrusion ratio:',data_cleaned.Intrusion.sum()/len(data_cleaned.Intrusion))"
   ]
  },
  {
   "cell_type": "code",
   "execution_count": 12,
   "id": "spread-laptop",
   "metadata": {
    "execution": {
     "iopub.execute_input": "2021-05-06T23:28:00.762993Z",
     "iopub.status.busy": "2021-05-06T23:28:00.762497Z",
     "iopub.status.idle": "2021-05-06T23:28:00.785674Z",
     "shell.execute_reply": "2021-05-06T23:28:00.784721Z",
     "shell.execute_reply.started": "2021-05-06T23:28:00.762940Z"
    }
   },
   "outputs": [],
   "source": [
    "data_cleaned['Intrusion']=data_cleaned.Intrusion.astype('int')"
   ]
  },
  {
   "cell_type": "code",
   "execution_count": 13,
   "id": "directed-washer",
   "metadata": {
    "execution": {
     "iopub.execute_input": "2021-05-06T23:28:01.593299Z",
     "iopub.status.busy": "2021-05-06T23:28:01.592855Z",
     "iopub.status.idle": "2021-05-06T23:28:02.194819Z",
     "shell.execute_reply": "2021-05-06T23:28:02.193926Z",
     "shell.execute_reply.started": "2021-05-06T23:28:01.593250Z"
    }
   },
   "outputs": [],
   "source": [
    "## Feature list\n",
    "feature_list=list(data_cleaned.iloc[:,1:79].columns)"
   ]
  },
  {
   "cell_type": "code",
   "execution_count": 18,
   "id": "corresponding-circulation",
   "metadata": {
    "execution": {
     "iopub.execute_input": "2021-05-06T23:28:45.213401Z",
     "iopub.status.busy": "2021-05-06T23:28:45.212928Z",
     "iopub.status.idle": "2021-05-06T23:28:46.320374Z",
     "shell.execute_reply": "2021-05-06T23:28:46.319712Z",
     "shell.execute_reply.started": "2021-05-06T23:28:45.213351Z"
    },
    "lines_to_next_cell": 2
   },
   "outputs": [
    {
     "name": "stdout",
     "output_type": "stream",
     "text": [
      "New Intrustion ratio: 0.5\n"
     ]
    }
   ],
   "source": [
    "from imblearn.under_sampling import RandomUnderSampler\n",
    "rus = RandomUnderSampler(random_state=0)\n",
    "X, y = rus.fit_resample(data_cleaned[['FlowBytes/s',\n",
    "                                        'BwdPacketLengthStd',\n",
    "                                        'DestinationPort',\n",
    "                                        'SubflowFwdBytes',\n",
    "                                        'TotalLengthofFwdPackets',\n",
    "                                        'Init_Win_bytes_forward',\n",
    "                                        'act_data_pkt_fwd',\n",
    "                                        'FwdIATMin',\n",
    "                                        'BwdPackets/s',\n",
    "                                        'AveragePacketSize'    \n",
    "                                    ]], data_cleaned.Intrusion)\n",
    "\n",
    "print('New Intrustion ratio:',y.sum()/len(y))"
   ]
  },
  {
   "cell_type": "code",
   "execution_count": 21,
   "id": "contrary-census",
   "metadata": {
    "execution": {
     "iopub.execute_input": "2021-05-06T23:29:07.701680Z",
     "iopub.status.busy": "2021-05-06T23:29:07.701202Z",
     "iopub.status.idle": "2021-05-06T23:29:07.716315Z",
     "shell.execute_reply": "2021-05-06T23:29:07.715152Z",
     "shell.execute_reply.started": "2021-05-06T23:29:07.701629Z"
    }
   },
   "outputs": [
    {
     "name": "stdout",
     "output_type": "stream",
     "text": [
      "556556\n",
      "556556\n"
     ]
    }
   ],
   "source": [
    "print(y.sum())\n",
    "print(y.count()-y.sum())"
   ]
  },
  {
   "cell_type": "markdown",
   "id": "obvious-mitchell",
   "metadata": {},
   "source": [
    "# Random Forest Model"
   ]
  },
  {
   "cell_type": "code",
   "execution_count": 163,
   "id": "sexual-exclusive",
   "metadata": {
    "execution": {
     "iopub.execute_input": "2021-05-05T23:52:28.629443Z",
     "iopub.status.busy": "2021-05-05T23:52:28.629305Z",
     "iopub.status.idle": "2021-05-05T23:52:28.991603Z",
     "shell.execute_reply": "2021-05-05T23:52:28.991029Z",
     "shell.execute_reply.started": "2021-05-05T23:52:28.629427Z"
    }
   },
   "outputs": [
    {
     "name": "stdout",
     "output_type": "stream",
     "text": [
      "Training Features Shape: (834834, 10)\n",
      "Training Labels Shape: (834834,)\n",
      "Testing Features Shape: (278278, 10)\n",
      "Testing Labels Shape: (278278,)\n"
     ]
    }
   ],
   "source": [
    "# Features\n",
    "#X=np.array(data_cleaned.iloc[:,1:79])\n",
    "# Target\n",
    "#y=np.array(data_cleaned.Intrusion)\n",
    "\n",
    "# Split into training and testing data\n",
    "train_X, test_X, train_y, test_y = train_test_split(X, y, test_size = 0.25, random_state = 42)\n",
    "\n",
    "scaler = StandardScaler()\n",
    "train_X = scaler.fit_transform(train_X)\n",
    "test_X = scaler.transform(test_X)\n",
    "\n",
    "\n",
    "\n",
    "print('Training Features Shape:', train_X.shape)\n",
    "print('Training Labels Shape:', train_y.shape)\n",
    "print('Testing Features Shape:', test_X.shape)\n",
    "print('Testing Labels Shape:', test_y.shape)"
   ]
  },
  {
   "cell_type": "code",
   "execution_count": 164,
   "id": "endangered-mention",
   "metadata": {
    "execution": {
     "iopub.execute_input": "2021-05-05T23:52:28.992688Z",
     "iopub.status.busy": "2021-05-05T23:52:28.992535Z",
     "iopub.status.idle": "2021-05-05T23:52:28.997247Z",
     "shell.execute_reply": "2021-05-05T23:52:28.996660Z",
     "shell.execute_reply.started": "2021-05-05T23:52:28.992669Z"
    }
   },
   "outputs": [
    {
     "data": {
      "text/plain": [
       "['scaler.pkl']"
      ]
     },
     "execution_count": 164,
     "metadata": {},
     "output_type": "execute_result"
    }
   ],
   "source": [
    "joblib.dump(scaler, 'scaler.pkl')"
   ]
  },
  {
   "cell_type": "code",
   "execution_count": 165,
   "id": "productive-finance",
   "metadata": {
    "execution": {
     "iopub.execute_input": "2021-05-05T23:52:28.997944Z",
     "iopub.status.busy": "2021-05-05T23:52:28.997810Z",
     "iopub.status.idle": "2021-05-05T23:52:48.545471Z",
     "shell.execute_reply": "2021-05-05T23:52:48.544759Z",
     "shell.execute_reply.started": "2021-05-05T23:52:28.997928Z"
    }
   },
   "outputs": [
    {
     "data": {
      "text/plain": [
       "RandomForestRegressor(n_estimators=10, random_state=42)"
      ]
     },
     "execution_count": 165,
     "metadata": {},
     "output_type": "execute_result"
    }
   ],
   "source": [
    "# Instantiate model with 10 decision trees\n",
    "rf = RandomForestRegressor(n_estimators = 10, random_state = 42)\n",
    "\n",
    "# Train the model on training data\n",
    "rf.fit(train_X, train_y)"
   ]
  },
  {
   "cell_type": "code",
   "execution_count": 166,
   "id": "needed-heritage",
   "metadata": {
    "execution": {
     "iopub.execute_input": "2021-05-05T23:52:48.546636Z",
     "iopub.status.busy": "2021-05-05T23:52:48.546470Z",
     "iopub.status.idle": "2021-05-05T23:52:48.834110Z",
     "shell.execute_reply": "2021-05-05T23:52:48.833580Z",
     "shell.execute_reply.started": "2021-05-05T23:52:48.546617Z"
    }
   },
   "outputs": [
    {
     "data": {
      "text/plain": [
       "0.9956896815110071"
      ]
     },
     "execution_count": 166,
     "metadata": {},
     "output_type": "execute_result"
    }
   ],
   "source": [
    "# Predict and Test\n",
    "rf_predictions = rf.predict(test_X)\n",
    "rf.score(test_X,test_y)"
   ]
  },
  {
   "cell_type": "code",
   "execution_count": 167,
   "id": "outstanding-restoration",
   "metadata": {
    "execution": {
     "iopub.execute_input": "2021-05-05T23:52:48.835030Z",
     "iopub.status.busy": "2021-05-05T23:52:48.834877Z",
     "iopub.status.idle": "2021-05-05T23:52:48.837765Z",
     "shell.execute_reply": "2021-05-05T23:52:48.837250Z",
     "shell.execute_reply.started": "2021-05-05T23:52:48.835013Z"
    }
   },
   "outputs": [],
   "source": [
    "# round using a threshold of 0.5\n",
    "rf_predictions=np.round(rf_predictions,0)"
   ]
  },
  {
   "cell_type": "code",
   "execution_count": 168,
   "id": "subjective-certificate",
   "metadata": {
    "execution": {
     "iopub.execute_input": "2021-05-05T23:52:48.838521Z",
     "iopub.status.busy": "2021-05-05T23:52:48.838382Z",
     "iopub.status.idle": "2021-05-05T23:52:48.865824Z",
     "shell.execute_reply": "2021-05-05T23:52:48.865263Z",
     "shell.execute_reply.started": "2021-05-05T23:52:48.838505Z"
    }
   },
   "outputs": [
    {
     "name": "stdout",
     "output_type": "stream",
     "text": [
      "Accuracy: 0.9987314843429951\n"
     ]
    }
   ],
   "source": [
    "print(\"Accuracy:\",metrics.accuracy_score(test_y, rf_predictions))"
   ]
  },
  {
   "cell_type": "code",
   "execution_count": 169,
   "id": "caroline-squad",
   "metadata": {
    "execution": {
     "iopub.execute_input": "2021-05-05T23:52:48.867458Z",
     "iopub.status.busy": "2021-05-05T23:52:48.867308Z",
     "iopub.status.idle": "2021-05-05T23:52:49.505251Z",
     "shell.execute_reply": "2021-05-05T23:52:49.504685Z",
     "shell.execute_reply.started": "2021-05-05T23:52:48.867441Z"
    },
    "lines_to_next_cell": 2
   },
   "outputs": [
    {
     "data": {
      "text/plain": [
       "<AxesSubplot:>"
      ]
     },
     "execution_count": 169,
     "metadata": {},
     "output_type": "execute_result"
    },
    {
     "data": {
      "image/png": "[encoded data removed]",
      "text/plain": [
       "<Figure size 432x288 with 1 Axes>"
      ]
     },
     "metadata": {
      "needs_background": "light"
     },
     "output_type": "display_data"
    }
   ],
   "source": [
    "sns.heatmap(confusion_matrix(test_y, rf_predictions),xticklabels=['No Intrusion','Intrusion'],yticklabels=['No Intrusion','Intrusion'], annot=True, cmap='Blues', cbar=False, fmt='g')"
   ]
  },
  {
   "cell_type": "code",
   "execution_count": 170,
   "id": "broken-particle",
   "metadata": {
    "execution": {
     "iopub.execute_input": "2021-05-05T23:52:49.506377Z",
     "iopub.status.busy": "2021-05-05T23:52:49.506215Z",
     "iopub.status.idle": "2021-05-05T23:52:49.515511Z",
     "shell.execute_reply": "2021-05-05T23:52:49.515014Z",
     "shell.execute_reply.started": "2021-05-05T23:52:49.506358Z"
    }
   },
   "outputs": [
    {
     "data": {
      "text/plain": [
       "['RF_intrusiondetection.pkl']"
      ]
     },
     "execution_count": 170,
     "metadata": {},
     "output_type": "execute_result"
    }
   ],
   "source": [
    "# Save model \n",
    "joblib.dump(rf, 'RF_intrusiondetection.pkl')"
   ]
  },
  {
   "cell_type": "markdown",
   "id": "concrete-filling",
   "metadata": {},
   "source": [
    "### Feature Importance"
   ]
  },
  {
   "cell_type": "code",
   "execution_count": 172,
   "id": "aggregate-november",
   "metadata": {
    "execution": {
     "iopub.execute_input": "2021-05-05T23:52:49.519437Z",
     "iopub.status.busy": "2021-05-05T23:52:49.519296Z",
     "iopub.status.idle": "2021-05-05T23:52:49.713090Z",
     "shell.execute_reply": "2021-05-05T23:52:49.712591Z",
     "shell.execute_reply.started": "2021-05-05T23:52:49.519422Z"
    }
   },
   "outputs": [
    {
     "data": {
      "text/plain": [
       "Text(0.5, 1.0, 'Feature Performance')"
      ]
     },
     "execution_count": 172,
     "metadata": {},
     "output_type": "execute_result"
    },
    {
     "data": {
      "image/png": "[encoded data removed]",
      "text/plain": [
       "<Figure size 1080x360 with 1 Axes>"
      ]
     },
     "metadata": {
      "needs_background": "light"
     },
     "output_type": "display_data"
    }
   ],
   "source": [
    "# Get numerical feature importances\n",
    "importances = list(rf.feature_importances_)\n",
    "feature_importances = [(feature, round(importance, 2)) for feature, importance in zip(feature_list, importances)]\n",
    "\n",
    "# Sort the feature importances by most important first\n",
    "feature_importances = sorted(feature_importances, key = lambda x: x[1], reverse = True)\n",
    "\n",
    "# Plot feature importance\n",
    "feat_impDF=pd.DataFrame()\n",
    "for feat,imp in feature_importances:\n",
    "    feat_impDF=feat_impDF.append({'feature':feat,'importance':imp},ignore_index=True)\n",
    "\n",
    "feat_impDF.plot.bar(x='feature',y='importance',figsize=(15,5), color='black', alpha=0.5)\n",
    "plt.title('Feature Performance', size=15, weight='bold')"
   ]
  },
  {
   "cell_type": "markdown",
   "id": "parental-entertainment",
   "metadata": {},
   "source": [
    "# Decision Tree Classifier"
   ]
  },
  {
   "cell_type": "code",
   "execution_count": 173,
   "id": "angry-anger",
   "metadata": {
    "execution": {
     "iopub.execute_input": "2021-05-05T23:52:49.713858Z",
     "iopub.status.busy": "2021-05-05T23:52:49.713721Z",
     "iopub.status.idle": "2021-05-05T23:52:49.718731Z",
     "shell.execute_reply": "2021-05-05T23:52:49.717524Z",
     "shell.execute_reply.started": "2021-05-05T23:52:49.713842Z"
    }
   },
   "outputs": [
    {
     "name": "stdout",
     "output_type": "stream",
     "text": [
      "Training Features Shape: (834834, 10)\n",
      "Training Labels Shape: (834834,)\n",
      "Testing Features Shape: (278278, 10)\n",
      "Testing Labels Shape: (278278,)\n"
     ]
    }
   ],
   "source": [
    "\n",
    "print('Training Features Shape:', train_X.shape)\n",
    "print('Training Labels Shape:', train_y.shape)\n",
    "print('Testing Features Shape:', test_X.shape)\n",
    "print('Testing Labels Shape:', test_y.shape)"
   ]
  },
  {
   "cell_type": "code",
   "execution_count": 174,
   "id": "dynamic-sound",
   "metadata": {
    "execution": {
     "iopub.execute_input": "2021-05-05T23:52:49.721206Z",
     "iopub.status.busy": "2021-05-05T23:52:49.720733Z",
     "iopub.status.idle": "2021-05-05T23:52:54.241818Z",
     "shell.execute_reply": "2021-05-05T23:52:54.241161Z",
     "shell.execute_reply.started": "2021-05-05T23:52:49.721158Z"
    }
   },
   "outputs": [],
   "source": [
    "clf = DecisionTreeClassifier()\n",
    "\n",
    "# Train Decision Tree Classifer\n",
    "clf = clf.fit(train_X,train_y)\n",
    "\n",
    "#Predict the response for test dataset\n",
    "clf_predictions = clf.predict(test_X)"
   ]
  },
  {
   "cell_type": "code",
   "execution_count": 175,
   "id": "going-palestine",
   "metadata": {
    "execution": {
     "iopub.execute_input": "2021-05-05T23:52:54.242654Z",
     "iopub.status.busy": "2021-05-05T23:52:54.242498Z",
     "iopub.status.idle": "2021-05-05T23:52:54.264721Z",
     "shell.execute_reply": "2021-05-05T23:52:54.264184Z",
     "shell.execute_reply.started": "2021-05-05T23:52:54.242635Z"
    }
   },
   "outputs": [
    {
     "name": "stdout",
     "output_type": "stream",
     "text": [
      "Accuracy: 0.9985302467316856\n"
     ]
    }
   ],
   "source": [
    "print(\"Accuracy:\",metrics.accuracy_score(test_y, clf_predictions))"
   ]
  },
  {
   "cell_type": "code",
   "execution_count": 176,
   "id": "satisfactory-dispatch",
   "metadata": {
    "execution": {
     "iopub.execute_input": "2021-05-05T23:52:54.265610Z",
     "iopub.status.busy": "2021-05-05T23:52:54.265467Z",
     "iopub.status.idle": "2021-05-05T23:52:54.498635Z",
     "shell.execute_reply": "2021-05-05T23:52:54.498120Z",
     "shell.execute_reply.started": "2021-05-05T23:52:54.265593Z"
    },
    "lines_to_next_cell": 2
   },
   "outputs": [
    {
     "data": {
      "text/plain": [
       "<AxesSubplot:>"
      ]
     },
     "execution_count": 176,
     "metadata": {},
     "output_type": "execute_result"
    },
    {
     "data": {
      "image/png": "[encoded data removed]",
      "text/plain": [
       "<Figure size 432x288 with 1 Axes>"
      ]
     },
     "metadata": {
      "needs_background": "light"
     },
     "output_type": "display_data"
    }
   ],
   "source": [
    "sns.heatmap(confusion_matrix(test_y, clf_predictions),xticklabels=['No Intrusion','Intrusion'],yticklabels=['No Intrusion','Intrusion'], annot=True, cmap='Blues', cbar=False, fmt='g')"
   ]
  },
  {
   "cell_type": "code",
   "execution_count": 177,
   "id": "identical-performer",
   "metadata": {
    "execution": {
     "iopub.execute_input": "2021-05-05T23:52:54.500249Z",
     "iopub.status.busy": "2021-05-05T23:52:54.500012Z",
     "iopub.status.idle": "2021-05-05T23:52:54.505057Z",
     "shell.execute_reply": "2021-05-05T23:52:54.504593Z",
     "shell.execute_reply.started": "2021-05-05T23:52:54.500230Z"
    }
   },
   "outputs": [
    {
     "data": {
      "text/plain": [
       "['clf_DecisionTree.pkl']"
      ]
     },
     "execution_count": 177,
     "metadata": {},
     "output_type": "execute_result"
    }
   ],
   "source": [
    "# Save model \n",
    "joblib.dump(clf, 'clf_DecisionTree.pkl')"
   ]
  },
  {
   "cell_type": "code",
   "execution_count": 178,
   "id": "accessible-acquisition",
   "metadata": {
    "execution": {
     "iopub.execute_input": "2021-05-05T23:52:59.703458Z",
     "iopub.status.busy": "2021-05-05T23:52:59.702952Z",
     "iopub.status.idle": "2021-05-05T23:52:59.982667Z",
     "shell.execute_reply": "2021-05-05T23:52:59.982115Z",
     "shell.execute_reply.started": "2021-05-05T23:52:59.703404Z"
    }
   },
   "outputs": [
    {
     "data": {
      "text/plain": [
       "Text(0.5, 1.0, 'Feature Performance')"
      ]
     },
     "execution_count": 178,
     "metadata": {},
     "output_type": "execute_result"
    },
    {
     "data": {
      "image/png": "[encoded data removed]",
      "text/plain": [
       "<Figure size 1080x360 with 1 Axes>"
      ]
     },
     "metadata": {
      "needs_background": "light"
     },
     "output_type": "display_data"
    }
   ],
   "source": [
    "# Get numerical feature importances\n",
    "importances = list(clf.feature_importances_)\n",
    "feature_importances = [(feature, round(importance, 2)) for feature, importance in zip(feature_list, importances)]\n",
    "\n",
    "# Sort the feature importances by most important first\n",
    "feature_importances = sorted(feature_importances, key = lambda x: x[1], reverse = True)\n",
    "\n",
    "# Plot feature importance\n",
    "feat_impDF=pd.DataFrame()\n",
    "for feat,imp in feature_importances:\n",
    "    feat_impDF=feat_impDF.append({'feature':feat,'importance':imp},ignore_index=True)\n",
    "\n",
    "feat_impDF.plot.bar(x='feature',y='importance',figsize=(15,5), color='black', alpha=0.5)\n",
    "plt.title('Feature Performance', size=15, weight='bold')"
   ]
  }
 ],
 "metadata": {
  "jupytext": {
   "cell_metadata_filter": "-ExecuteTime,-execute,-execution",
   "encoding": "# -*- coding: utf-8 -*-",
   "text_representation": {
    "extension": ".py",
    "format_name": "percent",
    "format_version": "1.3",
    "jupytext_version": "1.10.2"
   }
  },
  "kernelspec": {
   "display_name": "Python [conda env:.conda-ds-Tiffany.Young]",
   "language": "python",
   "name": "conda-env-.conda-ds-Tiffany.Young-py"
  },
  "language_info": {
   "codemirror_mode": {
    "name": "ipython",
    "version": 3
   },
   "file_extension": ".py",
   "mimetype": "text/x-python",
   "name": "python",
   "nbconvert_exporter": "python",
   "pygments_lexer": "ipython3",
   "version": "3.8.8"
  }
 },
 "nbformat": 4,
 "nbformat_minor": 5
}
